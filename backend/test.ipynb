{
 "cells": [
  {
   "cell_type": "code",
   "execution_count": 15,
   "metadata": {},
   "outputs": [
    {
     "name": "stdout",
     "output_type": "stream",
     "text": [
      "19205.xml\n",
      "<_elementtree._element_iterator object at 0x000002308891FEA0>\n"
     ]
    },
    {
     "ename": "AttributeError",
     "evalue": "'xml.etree.ElementTree.Element' object has no attribute 'writ'",
     "output_type": "error",
     "traceback": [
      "\u001b[1;31m---------------------------------------------------------------------------\u001b[0m",
      "\u001b[1;31mAttributeError\u001b[0m                            Traceback (most recent call last)",
      "Cell \u001b[1;32mIn[15], line 68\u001b[0m\n\u001b[0;32m     45\u001b[0m     law_pieces \u001b[39m=\u001b[39m [law_match(i\u001b[39m.\u001b[39mget(\u001b[39m'\u001b[39m\u001b[39mvalue\u001b[39m\u001b[39m'\u001b[39m)) \u001b[39mfor\u001b[39;00m i \u001b[39min\u001b[39;00m root\u001b[39m.\u001b[39mfindall(\u001b[39m\"\u001b[39m\u001b[39m.//FT\u001b[39m\u001b[39m\"\u001b[39m) \u001b[39mif\u001b[39;00m law_match(i\u001b[39m.\u001b[39mget(\u001b[39m'\u001b[39m\u001b[39mvalue\u001b[39m\u001b[39m'\u001b[39m))]\n\u001b[0;32m     46\u001b[0m     \u001b[39m# print(\"case reason\", case_reason)\u001b[39;00m\n\u001b[0;32m     47\u001b[0m     \u001b[39m# print([len(i) for i in [qw_value, head, related_people, judicial_record,\u001b[39;00m\n\u001b[0;32m     48\u001b[0m     \u001b[39m#                         basic_info, judgement_process, result, tail, note_name, judge_prop, court, province, year]])\u001b[39;00m\n\u001b[1;32m   (...)\u001b[0m\n\u001b[0;32m     65\u001b[0m     \u001b[39m#     land_value=land_value\u001b[39;00m\n\u001b[0;32m     66\u001b[0m     \u001b[39m# )\u001b[39;00m\n\u001b[1;32m---> 68\u001b[0m import_cases_from_xml(example_path)\n",
      "Cell \u001b[1;32mIn[15], line 27\u001b[0m, in \u001b[0;36mimport_cases_from_xml\u001b[1;34m(file_path)\u001b[0m\n\u001b[0;32m     24\u001b[0m file_id \u001b[39m=\u001b[39m \u001b[39mint\u001b[39m(os\u001b[39m.\u001b[39mpath\u001b[39m.\u001b[39mbasename(file_path)\u001b[39m.\u001b[39msplit(\u001b[39m\"\u001b[39m\u001b[39m.\u001b[39m\u001b[39m\"\u001b[39m)[\u001b[39m0\u001b[39m])\n\u001b[0;32m     26\u001b[0m \u001b[39mprint\u001b[39m(root\u001b[39m.\u001b[39miter())\n\u001b[1;32m---> 27\u001b[0m \u001b[39mprint\u001b[39m(root\u001b[39m.\u001b[39;49mwrit)\n\u001b[0;32m     28\u001b[0m qw_value \u001b[39m=\u001b[39m root\u001b[39m.\u001b[39mfind(\u001b[39m'\u001b[39m\u001b[39mQW\u001b[39m\u001b[39m'\u001b[39m)\u001b[39m.\u001b[39mget(\u001b[39m'\u001b[39m\u001b[39mvalue\u001b[39m\u001b[39m'\u001b[39m)\n\u001b[0;32m     29\u001b[0m head \u001b[39m=\u001b[39m root\u001b[39m.\u001b[39mfind(\u001b[39m'\u001b[39m\u001b[39m.//WS\u001b[39m\u001b[39m'\u001b[39m)\u001b[39m.\u001b[39mget(\u001b[39m'\u001b[39m\u001b[39mvalue\u001b[39m\u001b[39m'\u001b[39m)\n",
      "\u001b[1;31mAttributeError\u001b[0m: 'xml.etree.ElementTree.Element' object has no attribute 'writ'"
     ]
    }
   ],
   "source": [
    "import xml.etree.ElementTree as ET\n",
    "import os\n",
    "import re\n",
    "\n",
    "example_path = \"case/data/19205.xml\"\n",
    "print(os.path.basename(example_path))\n",
    "\n",
    "def law_match(in_str):\n",
    "    LAW_PATTERN1 = '.*条'\n",
    "    LAW_PATTERN2 = '《.*》'\n",
    "    law = re.match(LAW_PATTERN1, in_str)\n",
    "    if law:\n",
    "        return law.group()\n",
    "    law = re.match(LAW_PATTERN2, in_str)\n",
    "    if law:\n",
    "        return law.group()\n",
    "    return None\n",
    "\n",
    "\n",
    "def import_cases_from_xml(file_path):\n",
    "    tree = ET.parse(file_path)\n",
    "    root = tree.getroot()\n",
    "\n",
    "    file_id = int(os.path.basename(file_path).split(\".\")[0])\n",
    "\n",
    "    qw_value = root.find('QW').get('value')\n",
    "    head = root.find('.//WS').get('value')\n",
    "    \n",
    "    related_people = root.find('.//DSR').get('value')\n",
    "    judicial_record = root.find('.//SSJL').get('value')\n",
    "    basic_info = root.find('.//AJJBQK').get('value')\n",
    "    judgement_process = root.find('.//CPFXGC').get('value')\n",
    "    result = root.find('.//PJJG').get('value')\n",
    "    tail = root.find('.//WW').get('value')\n",
    "\n",
    "    note_name= root.find('.//WSMC').get('value')\n",
    "    judge_prop = root.find('.//SPCX').get('value')\n",
    "\n",
    "    court = root.find('.//JBFY').get('value')\n",
    "    province = root.find('.//XZQH_P').get('value')\n",
    "    case_reason = root.find('.//AY').get('value')\n",
    "    year = root.find('.//LAND').get('value')\n",
    "    law_pieces = [law_match(i.get('value')) for i in root.findall(\".//FT\") if law_match(i.get('value'))]\n",
    "    # print(\"case reason\", case_reason)\n",
    "    # print([len(i) for i in [qw_value, head, related_people, judicial_record,\n",
    "    #                         basic_info, judgement_process, result, tail, note_name, judge_prop, court, province, year]])\n",
    "    # print(\"court\", court)\n",
    "    # print(\"province\", province)\n",
    "    # print(law_pieces)\n",
    "    \n",
    "\n",
    "    # case = Case(id=id, qw_value=qw_value, ws_value=ws_value, jbfy_value=jbfy_value, \n",
    "    #             xzqh_p_value=xzqh_p_value, xzqh_c_value=xzqh_c_value, land_value=land_value)\n",
    "    # case.save()\n",
    "\n",
    "    # index_writer.add_document(\n",
    "    #     id=str(case.id),\n",
    "    #     qw_value=qw_value,\n",
    "    #     ws_value=ws_value,\n",
    "    #     jbfy_value=jbfy_value,\n",
    "    #     xzqh_p_value=xzqh_p_value,\n",
    "    #     xzqh_c_value=xzqh_c_value,\n",
    "    #     land_value=land_value\n",
    "    # )\n",
    "\n",
    "import_cases_from_xml(example_path)"
   ]
  },
  {
   "cell_type": "code",
   "execution_count": null,
   "metadata": {},
   "outputs": [],
   "source": []
  },
  {
   "cell_type": "code",
   "execution_count": 2,
   "metadata": {},
   "outputs": [
    {
     "ename": "SynchronousOnlyOperation",
     "evalue": "You cannot call this from an async context - use a thread or sync_to_async.",
     "output_type": "error",
     "traceback": [
      "\u001b[1;31m---------------------------------------------------------------------------\u001b[0m",
      "\u001b[1;31mSynchronousOnlyOperation\u001b[0m                  Traceback (most recent call last)",
      "Cell \u001b[1;32mIn[2], line 10\u001b[0m\n\u001b[0;32m      7\u001b[0m \u001b[39mfrom\u001b[39;00m \u001b[39mcase\u001b[39;00m\u001b[39m.\u001b[39;00m\u001b[39mmodels\u001b[39;00m \u001b[39mimport\u001b[39;00m Law, Case\n\u001b[0;32m      9\u001b[0m objects \u001b[39m=\u001b[39m Case\u001b[39m.\u001b[39mobjects\u001b[39m.\u001b[39mall()\u001b[39m.\u001b[39mfilter(year\u001b[39m=\u001b[39m\u001b[39m2017\u001b[39m)\u001b[39m.\u001b[39mall()\n\u001b[1;32m---> 10\u001b[0m \u001b[39mprint\u001b[39;49m(objects)\n",
      "File \u001b[1;32mc:\\Users\\x-eri\\miniconda3\\envs\\django-xty\\lib\\site-packages\\django\\db\\models\\query.py:374\u001b[0m, in \u001b[0;36mQuerySet.__repr__\u001b[1;34m(self)\u001b[0m\n\u001b[0;32m    373\u001b[0m \u001b[39mdef\u001b[39;00m \u001b[39m__repr__\u001b[39m(\u001b[39mself\u001b[39m):\n\u001b[1;32m--> 374\u001b[0m     data \u001b[39m=\u001b[39m \u001b[39mlist\u001b[39;49m(\u001b[39mself\u001b[39;49m[: REPR_OUTPUT_SIZE \u001b[39m+\u001b[39;49m \u001b[39m1\u001b[39;49m])\n\u001b[0;32m    375\u001b[0m     \u001b[39mif\u001b[39;00m \u001b[39mlen\u001b[39m(data) \u001b[39m>\u001b[39m REPR_OUTPUT_SIZE:\n\u001b[0;32m    376\u001b[0m         data[\u001b[39m-\u001b[39m\u001b[39m1\u001b[39m] \u001b[39m=\u001b[39m \u001b[39m\"\u001b[39m\u001b[39m...(remaining elements truncated)...\u001b[39m\u001b[39m\"\u001b[39m\n",
      "File \u001b[1;32mc:\\Users\\x-eri\\miniconda3\\envs\\django-xty\\lib\\site-packages\\django\\db\\models\\query.py:380\u001b[0m, in \u001b[0;36mQuerySet.__len__\u001b[1;34m(self)\u001b[0m\n\u001b[0;32m    379\u001b[0m \u001b[39mdef\u001b[39;00m \u001b[39m__len__\u001b[39m(\u001b[39mself\u001b[39m):\n\u001b[1;32m--> 380\u001b[0m     \u001b[39mself\u001b[39;49m\u001b[39m.\u001b[39;49m_fetch_all()\n\u001b[0;32m    381\u001b[0m     \u001b[39mreturn\u001b[39;00m \u001b[39mlen\u001b[39m(\u001b[39mself\u001b[39m\u001b[39m.\u001b[39m_result_cache)\n",
      "File \u001b[1;32mc:\\Users\\x-eri\\miniconda3\\envs\\django-xty\\lib\\site-packages\\django\\db\\models\\query.py:1881\u001b[0m, in \u001b[0;36mQuerySet._fetch_all\u001b[1;34m(self)\u001b[0m\n\u001b[0;32m   1879\u001b[0m \u001b[39mdef\u001b[39;00m \u001b[39m_fetch_all\u001b[39m(\u001b[39mself\u001b[39m):\n\u001b[0;32m   1880\u001b[0m     \u001b[39mif\u001b[39;00m \u001b[39mself\u001b[39m\u001b[39m.\u001b[39m_result_cache \u001b[39mis\u001b[39;00m \u001b[39mNone\u001b[39;00m:\n\u001b[1;32m-> 1881\u001b[0m         \u001b[39mself\u001b[39m\u001b[39m.\u001b[39m_result_cache \u001b[39m=\u001b[39m \u001b[39mlist\u001b[39;49m(\u001b[39mself\u001b[39;49m\u001b[39m.\u001b[39;49m_iterable_class(\u001b[39mself\u001b[39;49m))\n\u001b[0;32m   1882\u001b[0m     \u001b[39mif\u001b[39;00m \u001b[39mself\u001b[39m\u001b[39m.\u001b[39m_prefetch_related_lookups \u001b[39mand\u001b[39;00m \u001b[39mnot\u001b[39;00m \u001b[39mself\u001b[39m\u001b[39m.\u001b[39m_prefetch_done:\n\u001b[0;32m   1883\u001b[0m         \u001b[39mself\u001b[39m\u001b[39m.\u001b[39m_prefetch_related_objects()\n",
      "File \u001b[1;32mc:\\Users\\x-eri\\miniconda3\\envs\\django-xty\\lib\\site-packages\\django\\db\\models\\query.py:91\u001b[0m, in \u001b[0;36mModelIterable.__iter__\u001b[1;34m(self)\u001b[0m\n\u001b[0;32m     88\u001b[0m compiler \u001b[39m=\u001b[39m queryset\u001b[39m.\u001b[39mquery\u001b[39m.\u001b[39mget_compiler(using\u001b[39m=\u001b[39mdb)\n\u001b[0;32m     89\u001b[0m \u001b[39m# Execute the query. This will also fill compiler.select, klass_info,\u001b[39;00m\n\u001b[0;32m     90\u001b[0m \u001b[39m# and annotations.\u001b[39;00m\n\u001b[1;32m---> 91\u001b[0m results \u001b[39m=\u001b[39m compiler\u001b[39m.\u001b[39;49mexecute_sql(\n\u001b[0;32m     92\u001b[0m     chunked_fetch\u001b[39m=\u001b[39;49m\u001b[39mself\u001b[39;49m\u001b[39m.\u001b[39;49mchunked_fetch, chunk_size\u001b[39m=\u001b[39;49m\u001b[39mself\u001b[39;49m\u001b[39m.\u001b[39;49mchunk_size\n\u001b[0;32m     93\u001b[0m )\n\u001b[0;32m     94\u001b[0m select, klass_info, annotation_col_map \u001b[39m=\u001b[39m (\n\u001b[0;32m     95\u001b[0m     compiler\u001b[39m.\u001b[39mselect,\n\u001b[0;32m     96\u001b[0m     compiler\u001b[39m.\u001b[39mklass_info,\n\u001b[0;32m     97\u001b[0m     compiler\u001b[39m.\u001b[39mannotation_col_map,\n\u001b[0;32m     98\u001b[0m )\n\u001b[0;32m     99\u001b[0m model_cls \u001b[39m=\u001b[39m klass_info[\u001b[39m\"\u001b[39m\u001b[39mmodel\u001b[39m\u001b[39m\"\u001b[39m]\n",
      "File \u001b[1;32mc:\\Users\\x-eri\\miniconda3\\envs\\django-xty\\lib\\site-packages\\django\\db\\models\\sql\\compiler.py:1558\u001b[0m, in \u001b[0;36mSQLCompiler.execute_sql\u001b[1;34m(self, result_type, chunked_fetch, chunk_size)\u001b[0m\n\u001b[0;32m   1556\u001b[0m     cursor \u001b[39m=\u001b[39m \u001b[39mself\u001b[39m\u001b[39m.\u001b[39mconnection\u001b[39m.\u001b[39mchunked_cursor()\n\u001b[0;32m   1557\u001b[0m \u001b[39melse\u001b[39;00m:\n\u001b[1;32m-> 1558\u001b[0m     cursor \u001b[39m=\u001b[39m \u001b[39mself\u001b[39;49m\u001b[39m.\u001b[39;49mconnection\u001b[39m.\u001b[39;49mcursor()\n\u001b[0;32m   1559\u001b[0m \u001b[39mtry\u001b[39;00m:\n\u001b[0;32m   1560\u001b[0m     cursor\u001b[39m.\u001b[39mexecute(sql, params)\n",
      "File \u001b[1;32mc:\\Users\\x-eri\\miniconda3\\envs\\django-xty\\lib\\site-packages\\django\\utils\\asyncio.py:24\u001b[0m, in \u001b[0;36masync_unsafe.<locals>.decorator.<locals>.inner\u001b[1;34m(*args, **kwargs)\u001b[0m\n\u001b[0;32m     22\u001b[0m \u001b[39melse\u001b[39;00m:\n\u001b[0;32m     23\u001b[0m     \u001b[39mif\u001b[39;00m \u001b[39mnot\u001b[39;00m os\u001b[39m.\u001b[39menviron\u001b[39m.\u001b[39mget(\u001b[39m\"\u001b[39m\u001b[39mDJANGO_ALLOW_ASYNC_UNSAFE\u001b[39m\u001b[39m\"\u001b[39m):\n\u001b[1;32m---> 24\u001b[0m         \u001b[39mraise\u001b[39;00m SynchronousOnlyOperation(message)\n\u001b[0;32m     25\u001b[0m \u001b[39m# Pass onward.\u001b[39;00m\n\u001b[0;32m     26\u001b[0m \u001b[39mreturn\u001b[39;00m func(\u001b[39m*\u001b[39margs, \u001b[39m*\u001b[39m\u001b[39m*\u001b[39mkwargs)\n",
      "\u001b[1;31mSynchronousOnlyOperation\u001b[0m: You cannot call this from an async context - use a thread or sync_to_async."
     ]
    }
   ],
   "source": [
    "import os\n",
    "from asgiref.sync import sync_to_async\n",
    "\n",
    "os.environ.setdefault('DJANGO_SETTINGS_MODULE', 'judicature_search.settings')\n",
    "import django\n",
    "django.setup()\n",
    "from case.models import Law, Case\n",
    "\n",
    "objects = Case.objects.get(id=151)\n",
    "print(objects)"
   ]
  }
 ],
 "metadata": {
  "kernelspec": {
   "display_name": "django-xty",
   "language": "python",
   "name": "python3"
  },
  "language_info": {
   "codemirror_mode": {
    "name": "ipython",
    "version": 3
   },
   "file_extension": ".py",
   "mimetype": "text/x-python",
   "name": "python",
   "nbconvert_exporter": "python",
   "pygments_lexer": "ipython3",
   "version": "3.8.16"
  },
  "orig_nbformat": 4
 },
 "nbformat": 4,
 "nbformat_minor": 2
}
